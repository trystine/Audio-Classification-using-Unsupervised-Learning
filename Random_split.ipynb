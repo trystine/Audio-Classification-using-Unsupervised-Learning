{
  "nbformat": 4,
  "nbformat_minor": 0,
  "metadata": {
    "colab": {
      "name": "Random_split.ipynb",
      "provenance": []
    },
    "kernelspec": {
      "name": "python3",
      "display_name": "Python 3"
    },
    "language_info": {
      "name": "python"
    }
  },
  "cells": [
    {
      "cell_type": "code",
      "source": [
        "pip install pydub"
      ],
      "metadata": {
        "colab": {
          "base_uri": "https://localhost:8080/"
        },
        "id": "DVffHoY2ZLi7",
        "outputId": "06de8165-a218-4327-9efe-317c0bb6256f"
      },
      "execution_count": 1,
      "outputs": [
        {
          "output_type": "stream",
          "name": "stdout",
          "text": [
            "Collecting pydub\n",
            "  Downloading pydub-0.25.1-py2.py3-none-any.whl (32 kB)\n",
            "Installing collected packages: pydub\n",
            "Successfully installed pydub-0.25.1\n"
          ]
        }
      ]
    },
    {
      "cell_type": "code",
      "source": [
        "pip install pyAudioAnalysis"
      ],
      "metadata": {
        "colab": {
          "base_uri": "https://localhost:8080/"
        },
        "id": "FrT81vbOve0O",
        "outputId": "572a1f28-3dbc-462d-f7c4-038769e9ecd6"
      },
      "execution_count": 22,
      "outputs": [
        {
          "output_type": "stream",
          "name": "stdout",
          "text": [
            "Collecting pyAudioAnalysis\n",
            "  Downloading pyAudioAnalysis-0.3.14.tar.gz (41.3 MB)\n",
            "\u001b[K     |████████████████████████████████| 41.3 MB 1.3 MB/s \n",
            "\u001b[?25hBuilding wheels for collected packages: pyAudioAnalysis\n",
            "  Building wheel for pyAudioAnalysis (setup.py) ... \u001b[?25l\u001b[?25hdone\n",
            "  Created wheel for pyAudioAnalysis: filename=pyAudioAnalysis-0.3.14-py3-none-any.whl size=41264389 sha256=0c047fa9ab1e5c1eaf0e1b30a71af0db568f6535cd50569ab5a153fdd81af3ca\n",
            "  Stored in directory: /root/.cache/pip/wheels/85/b4/52/c6a5bdc8517a9bc4cc95aca9839f118d25139aee7881a8d210\n",
            "Successfully built pyAudioAnalysis\n",
            "Installing collected packages: pyAudioAnalysis\n",
            "Successfully installed pyAudioAnalysis-0.3.14\n"
          ]
        }
      ]
    },
    {
      "cell_type": "code",
      "source": [
        "pip install eyed3"
      ],
      "metadata": {
        "colab": {
          "base_uri": "https://localhost:8080/"
        },
        "id": "mbCBE7hKvhoO",
        "outputId": "4adbb2c5-b8aa-487e-9978-eca3ba3c71c1"
      },
      "execution_count": 23,
      "outputs": [
        {
          "output_type": "stream",
          "name": "stdout",
          "text": [
            "Collecting eyed3\n",
            "  Downloading eyeD3-0.9.6-py3-none-any.whl (245 kB)\n",
            "\u001b[?25l\r\u001b[K     |█▎                              | 10 kB 21.8 MB/s eta 0:00:01\r\u001b[K     |██▋                             | 20 kB 11.2 MB/s eta 0:00:01\r\u001b[K     |████                            | 30 kB 6.7 MB/s eta 0:00:01\r\u001b[K     |█████▎                          | 40 kB 6.1 MB/s eta 0:00:01\r\u001b[K     |██████▋                         | 51 kB 2.7 MB/s eta 0:00:01\r\u001b[K     |████████                        | 61 kB 3.3 MB/s eta 0:00:01\r\u001b[K     |█████████▎                      | 71 kB 3.4 MB/s eta 0:00:01\r\u001b[K     |██████████▋                     | 81 kB 3.5 MB/s eta 0:00:01\r\u001b[K     |████████████                    | 92 kB 3.9 MB/s eta 0:00:01\r\u001b[K     |█████████████▎                  | 102 kB 3.2 MB/s eta 0:00:01\r\u001b[K     |██████████████▋                 | 112 kB 3.2 MB/s eta 0:00:01\r\u001b[K     |████████████████                | 122 kB 3.2 MB/s eta 0:00:01\r\u001b[K     |█████████████████▎              | 133 kB 3.2 MB/s eta 0:00:01\r\u001b[K     |██████████████████▋             | 143 kB 3.2 MB/s eta 0:00:01\r\u001b[K     |████████████████████            | 153 kB 3.2 MB/s eta 0:00:01\r\u001b[K     |█████████████████████▎          | 163 kB 3.2 MB/s eta 0:00:01\r\u001b[K     |██████████████████████▋         | 174 kB 3.2 MB/s eta 0:00:01\r\u001b[K     |████████████████████████        | 184 kB 3.2 MB/s eta 0:00:01\r\u001b[K     |█████████████████████████▎      | 194 kB 3.2 MB/s eta 0:00:01\r\u001b[K     |██████████████████████████▋     | 204 kB 3.2 MB/s eta 0:00:01\r\u001b[K     |████████████████████████████    | 215 kB 3.2 MB/s eta 0:00:01\r\u001b[K     |█████████████████████████████▎  | 225 kB 3.2 MB/s eta 0:00:01\r\u001b[K     |██████████████████████████████▋ | 235 kB 3.2 MB/s eta 0:00:01\r\u001b[K     |████████████████████████████████| 245 kB 3.2 MB/s eta 0:00:01\r\u001b[K     |████████████████████████████████| 245 kB 3.2 MB/s \n",
            "\u001b[?25hCollecting filetype<2.0.0,>=1.0.7\n",
            "  Downloading filetype-1.0.10-py2.py3-none-any.whl (16 kB)\n",
            "Collecting deprecation<3.0.0,>=2.1.0\n",
            "  Downloading deprecation-2.1.0-py2.py3-none-any.whl (11 kB)\n",
            "Collecting coverage[toml]<6.0.0,>=5.3.1\n",
            "  Downloading coverage-5.5-cp37-cp37m-manylinux2010_x86_64.whl (242 kB)\n",
            "\u001b[K     |████████████████████████████████| 242 kB 47.0 MB/s \n",
            "\u001b[?25hCollecting toml\n",
            "  Downloading toml-0.10.2-py2.py3-none-any.whl (16 kB)\n",
            "Requirement already satisfied: packaging in /usr/local/lib/python3.7/dist-packages (from deprecation<3.0.0,>=2.1.0->eyed3) (21.3)\n",
            "Requirement already satisfied: pyparsing!=3.0.5,>=2.0.2 in /usr/local/lib/python3.7/dist-packages (from packaging->deprecation<3.0.0,>=2.1.0->eyed3) (3.0.7)\n",
            "Installing collected packages: toml, coverage, filetype, deprecation, eyed3\n",
            "  Attempting uninstall: coverage\n",
            "    Found existing installation: coverage 3.7.1\n",
            "    Uninstalling coverage-3.7.1:\n",
            "      Successfully uninstalled coverage-3.7.1\n",
            "\u001b[31mERROR: pip's dependency resolver does not currently take into account all the packages that are installed. This behaviour is the source of the following dependency conflicts.\n",
            "datascience 0.10.6 requires coverage==3.7.1, but you have coverage 5.5 which is incompatible.\n",
            "datascience 0.10.6 requires folium==0.2.1, but you have folium 0.8.3 which is incompatible.\n",
            "coveralls 0.5 requires coverage<3.999,>=3.6, but you have coverage 5.5 which is incompatible.\u001b[0m\n",
            "Successfully installed coverage-5.5 deprecation-2.1.0 eyed3-0.9.6 filetype-1.0.10 toml-0.10.2\n"
          ]
        }
      ]
    },
    {
      "cell_type": "markdown",
      "source": [
        "## Splitting the audio into 60 seconds each part."
      ],
      "metadata": {
        "id": "8MKIJbidCWkd"
      }
    },
    {
      "cell_type": "code",
      "execution_count": 73,
      "metadata": {
        "id": "K9yOIUXVY3ZS"
      },
      "outputs": [],
      "source": [
        "from pydub import AudioSegment\n",
        "import math\n",
        "\n",
        "class SplittingWavAudioMubin():\n",
        "    def __init__(self, folder, filename):\n",
        "        self.folder = folder\n",
        "        self.filename = filename\n",
        "        self.filepath = folder + '/' + filename\n",
        "        \n",
        "        self.audio = AudioSegment.from_wav(self.filepath)\n",
        "    \n",
        "    def get_duration(self):\n",
        "        return self.audio.duration_seconds\n",
        "    \n",
        "    def single_split(self, from_min, to_min, split_filename):\n",
        "        folder2='/content/new_folder'\n",
        "        t1 = from_min * 60 * 1000\n",
        "        t2 = to_min * 60 * 1000\n",
        "        split_audio = self.audio[t1:t2]\n",
        "        split_audio.export(folder + '/' + split_filename, format=\"wav\")\n",
        "        \n",
        "    def multiple_split(self, min_per_split):\n",
        "        total_mins = math.ceil(self.get_duration() / 60)\n",
        "        for i in range(0, total_mins, min_per_split):\n",
        "            split_fn = str(i) + '_' + self.filename\n",
        "            self.single_split(i, i+min_per_split, split_fn)\n",
        "            print(str(i) + ' Done')\n",
        "            if i == total_mins - min_per_split:\n",
        "                print('All splited successfully')"
      ]
    },
    {
      "cell_type": "code",
      "source": [
        "!mkdir new_folder"
      ],
      "metadata": {
        "colab": {
          "base_uri": "https://localhost:8080/"
        },
        "id": "IYpCA02Zbi4K",
        "outputId": "c7b851b3-f0ad-4179-b091-b82be6015f3e"
      },
      "execution_count": 74,
      "outputs": [
        {
          "output_type": "stream",
          "name": "stdout",
          "text": [
            "mkdir: cannot create directory ‘new_folder’: File exists\n"
          ]
        }
      ]
    },
    {
      "cell_type": "code",
      "source": [
        "!mkdir new_folder2"
      ],
      "metadata": {
        "colab": {
          "base_uri": "https://localhost:8080/"
        },
        "id": "7Vlq8tNHul6s",
        "outputId": "827bb478-247f-447e-945a-b8b23a439b92"
      },
      "execution_count": 75,
      "outputs": [
        {
          "output_type": "stream",
          "name": "stdout",
          "text": [
            "mkdir: cannot create directory ‘new_folder2’: File exists\n"
          ]
        }
      ]
    },
    {
      "cell_type": "code",
      "source": [
        "!mkdir new_folder3"
      ],
      "metadata": {
        "id": "tGLAkDd7wi_U"
      },
      "execution_count": 76,
      "outputs": []
    },
    {
      "cell_type": "code",
      "source": [
        "folder = 'new_folder'\n",
        "file = 'Miley_Cyrus_Party_In_The_USA.wav'\n",
        "split_wav = SplittingWavAudioMubin(folder, file)\n",
        "split_wav.multiple_split(min_per_split=1)"
      ],
      "metadata": {
        "colab": {
          "base_uri": "https://localhost:8080/"
        },
        "id": "THPVAbYiZa-e",
        "outputId": "dddb7370-6a39-415f-8724-ffaa2068699e"
      },
      "execution_count": 78,
      "outputs": [
        {
          "output_type": "stream",
          "name": "stdout",
          "text": [
            "0 Done\n",
            "1 Done\n",
            "2 Done\n",
            "3 Done\n",
            "All splited successfully\n"
          ]
        }
      ]
    },
    {
      "cell_type": "markdown",
      "source": [
        "## Based on the splitted music wav. One can perform clustering on these different parts of a single song. And one can find interesting clusters which actually makes sense when you listen to the song. For example, one cluster of songs would have similar kind of tone, while other's will have signature parts of the song which is chorus. I experimented with Miley Cyrus Party in USA"
      ],
      "metadata": {
        "id": "KcWew_F1Fvm1"
      }
    },
    {
      "cell_type": "code",
      "source": [
        "import numpy as np\n",
        "import pandas as pd\n",
        "from pyAudioAnalysis import audioBasicIO \n",
        "from pyAudioAnalysis import ShortTermFeatures\n",
        "import matplotlib.pyplot as plt"
      ],
      "metadata": {
        "id": "oWRROpC6u2de"
      },
      "execution_count": 79,
      "outputs": []
    },
    {
      "cell_type": "code",
      "source": [
        "def PreProcessing_audio( fileName ):\n",
        "    \n",
        "    # Extracting wav file data\n",
        "    [fq, x] = audioBasicIO.read_audio_file(fileName);\n",
        "    print(\"fs\",fq)\n",
        "    print('x',x.shape)\n",
        "\n",
        "    # If double channel data then take mean\n",
        "    if( len( x.shape ) > 1 and  x.shape[1] == 2 ):\n",
        "        x = np.mean( x, axis = 1, keepdims = True )\n",
        "    else:\n",
        "        x = x.reshape( x.shape[0], 1 )\n",
        "    \n",
        "    # Extract the raw chromagram data, expected dimention is [ m,  ] not [ m, 1 ]\n",
        "    F, f_names = ShortTermFeatures.feature_extraction(\n",
        "        x[ :, 0 ], \n",
        "        fq, 0.050*fq, \n",
        "        0.025*fq\n",
        "    )\n",
        "    return (f_names, F)"
      ],
      "metadata": {
        "id": "_x07q-AEvxAC"
      },
      "execution_count": 80,
      "outputs": []
    },
    {
      "cell_type": "code",
      "source": [
        "def getChromagram( audioData ):\n",
        "  \n",
        "    temp_data =  audioData[ 21 ].reshape( 1, audioData[ 21 ].shape[0] )\n",
        "    chronograph = temp_data\n",
        "    \n",
        "    # looping through the next 11 stacking them vertically\n",
        "    for i in range( 22, 33 ):\n",
        "        temp_data =  audioData[ i ].reshape( 1, audioData[ i ].shape[0] )\n",
        "        chronograph = np.vstack( [ chronograph,  temp_data ] )\n",
        "    \n",
        "    return chronograph"
      ],
      "metadata": {
        "id": "CQzNn_QWvyNX"
      },
      "execution_count": 81,
      "outputs": []
    },
    {
      "cell_type": "code",
      "source": [
        "def getNoteFrequency( chromagram ):\n",
        "    nbin=12\n",
        "    # Total number of time frames in the current sample\n",
        "    numberOfWindows = chromagram.shape[1]\n",
        "    \n",
        "    # Taking the note with the highest amplitude\n",
        "    freqVal = chromagram.argmax( axis = 0 )\n",
        "    \n",
        "    # Converting the freqVal vs time to freq count\n",
        "    histogram, bin = np.histogram( freqVal, bins = nbin ) \n",
        "    \n",
        "    # Normalizing the distribution by the number of time frames\n",
        "    normalized_hist = histogram.reshape( 1, nbin ).astype( float ) / numberOfWindows\n",
        "    \n",
        "    return normalized_hist"
      ],
      "metadata": {
        "id": "niDcpZxCv1ZJ"
      },
      "execution_count": 82,
      "outputs": []
    },
    {
      "cell_type": "code",
      "source": [
        "fileList=[]\n",
        "def getDataset( filePath ):\n",
        "    X = pd.DataFrame(  )\n",
        "    \n",
        "    columns=[ \"G#\", \"G\", \"F#\", \"F\", \"E\", \"D#\", \"D\", \"C#\", \"C\", \"B\", \"A#\", \"A\" ]\n",
        "    f_list=[]\n",
        "    for root, dirs, filenames in os.walk( filePath ):\n",
        "        for file in filenames:\n",
        "            fileList.append( file )\n",
        "            print(file)\n",
        "            f_list.append(file)\n",
        "            try:\n",
        "              feature_name, features = PreProcessing_audio(filePath + file )\n",
        "              \n",
        "            except:\n",
        "              continue\n",
        "            chromagram = getChromagram( features )\n",
        "            noteFrequency = getNoteFrequency( chromagram )\n",
        "            x_new =  pd.Series(noteFrequency[ 0, : ])\n",
        "            X = pd.concat( [ X, x_new ], axis = 1 )\n",
        "        \n",
        "    data = X.T.copy()\n",
        "    data.columns = columns\n",
        "    data.index = [ i for i in range( 0, data.shape[ 0 ] ) ]\n",
        "            \n",
        "    return data, f_list"
      ],
      "metadata": {
        "id": "HwpC0K-9v4RO"
      },
      "execution_count": 87,
      "outputs": []
    },
    {
      "cell_type": "code",
      "source": [
        "import os\n",
        "data, feature_name1 = getDataset('./new_folder/')"
      ],
      "metadata": {
        "colab": {
          "base_uri": "https://localhost:8080/"
        },
        "id": "8lCtlcebv8dN",
        "outputId": "f06bf439-1ff9-4962-88e6-26b182ccb234"
      },
      "execution_count": 88,
      "outputs": [
        {
          "output_type": "stream",
          "name": "stdout",
          "text": [
            "1_Miley_Cyrus_Party_In_The_USA.wav\n",
            "fs 48000\n",
            "x (2880000, 2)\n",
            "2_Miley_Cyrus_Party_In_The_USA.wav\n",
            "fs 48000\n",
            "x (2880000, 2)\n",
            "3_Miley_Cyrus_Party_In_The_USA.wav\n",
            "fs 48000\n",
            "x (1302432, 2)\n",
            "0_Miley_Cyrus_Party_In_The_USA.wav\n",
            "fs 48000\n",
            "x (2880000, 2)\n"
          ]
        }
      ]
    },
    {
      "cell_type": "code",
      "source": [
        "data"
      ],
      "metadata": {
        "colab": {
          "base_uri": "https://localhost:8080/",
          "height": 175
        },
        "id": "_wiCpLDdwBZw",
        "outputId": "e791c23e-0dba-476d-8056-63fd0202f067"
      },
      "execution_count": 89,
      "outputs": [
        {
          "output_type": "execute_result",
          "data": {
            "text/plain": [
              "         G#         G        F#         F         E        D#         D  \\\n",
              "0  0.015423  0.021259  0.325552  0.019591  0.067111  0.026678  0.155898   \n",
              "1  0.003335  0.011672  0.393080  0.008337  0.115048  0.001251  0.122551   \n",
              "2  0.002768  0.264760  0.000000  0.000000  0.094096  0.000000  0.330258   \n",
              "3  0.018758  0.027511  0.300125  0.010838  0.045436  0.054606  0.159233   \n",
              "\n",
              "         C#         C         B        A#         A  \n",
              "0  0.002084  0.017924  0.022093  0.315965  0.010421  \n",
              "1  0.000000  0.007920  0.046269  0.277199  0.013339  \n",
              "2  0.000000  0.000000  0.000000  0.001845  0.306273  \n",
              "3  0.000834  0.040017  0.057107  0.273030  0.012505  "
            ],
            "text/html": [
              "\n",
              "  <div id=\"df-957b1c9f-2c6c-4943-acdf-d11a1b23b8e0\">\n",
              "    <div class=\"colab-df-container\">\n",
              "      <div>\n",
              "<style scoped>\n",
              "    .dataframe tbody tr th:only-of-type {\n",
              "        vertical-align: middle;\n",
              "    }\n",
              "\n",
              "    .dataframe tbody tr th {\n",
              "        vertical-align: top;\n",
              "    }\n",
              "\n",
              "    .dataframe thead th {\n",
              "        text-align: right;\n",
              "    }\n",
              "</style>\n",
              "<table border=\"1\" class=\"dataframe\">\n",
              "  <thead>\n",
              "    <tr style=\"text-align: right;\">\n",
              "      <th></th>\n",
              "      <th>G#</th>\n",
              "      <th>G</th>\n",
              "      <th>F#</th>\n",
              "      <th>F</th>\n",
              "      <th>E</th>\n",
              "      <th>D#</th>\n",
              "      <th>D</th>\n",
              "      <th>C#</th>\n",
              "      <th>C</th>\n",
              "      <th>B</th>\n",
              "      <th>A#</th>\n",
              "      <th>A</th>\n",
              "    </tr>\n",
              "  </thead>\n",
              "  <tbody>\n",
              "    <tr>\n",
              "      <th>0</th>\n",
              "      <td>0.015423</td>\n",
              "      <td>0.021259</td>\n",
              "      <td>0.325552</td>\n",
              "      <td>0.019591</td>\n",
              "      <td>0.067111</td>\n",
              "      <td>0.026678</td>\n",
              "      <td>0.155898</td>\n",
              "      <td>0.002084</td>\n",
              "      <td>0.017924</td>\n",
              "      <td>0.022093</td>\n",
              "      <td>0.315965</td>\n",
              "      <td>0.010421</td>\n",
              "    </tr>\n",
              "    <tr>\n",
              "      <th>1</th>\n",
              "      <td>0.003335</td>\n",
              "      <td>0.011672</td>\n",
              "      <td>0.393080</td>\n",
              "      <td>0.008337</td>\n",
              "      <td>0.115048</td>\n",
              "      <td>0.001251</td>\n",
              "      <td>0.122551</td>\n",
              "      <td>0.000000</td>\n",
              "      <td>0.007920</td>\n",
              "      <td>0.046269</td>\n",
              "      <td>0.277199</td>\n",
              "      <td>0.013339</td>\n",
              "    </tr>\n",
              "    <tr>\n",
              "      <th>2</th>\n",
              "      <td>0.002768</td>\n",
              "      <td>0.264760</td>\n",
              "      <td>0.000000</td>\n",
              "      <td>0.000000</td>\n",
              "      <td>0.094096</td>\n",
              "      <td>0.000000</td>\n",
              "      <td>0.330258</td>\n",
              "      <td>0.000000</td>\n",
              "      <td>0.000000</td>\n",
              "      <td>0.000000</td>\n",
              "      <td>0.001845</td>\n",
              "      <td>0.306273</td>\n",
              "    </tr>\n",
              "    <tr>\n",
              "      <th>3</th>\n",
              "      <td>0.018758</td>\n",
              "      <td>0.027511</td>\n",
              "      <td>0.300125</td>\n",
              "      <td>0.010838</td>\n",
              "      <td>0.045436</td>\n",
              "      <td>0.054606</td>\n",
              "      <td>0.159233</td>\n",
              "      <td>0.000834</td>\n",
              "      <td>0.040017</td>\n",
              "      <td>0.057107</td>\n",
              "      <td>0.273030</td>\n",
              "      <td>0.012505</td>\n",
              "    </tr>\n",
              "  </tbody>\n",
              "</table>\n",
              "</div>\n",
              "      <button class=\"colab-df-convert\" onclick=\"convertToInteractive('df-957b1c9f-2c6c-4943-acdf-d11a1b23b8e0')\"\n",
              "              title=\"Convert this dataframe to an interactive table.\"\n",
              "              style=\"display:none;\">\n",
              "        \n",
              "  <svg xmlns=\"http://www.w3.org/2000/svg\" height=\"24px\"viewBox=\"0 0 24 24\"\n",
              "       width=\"24px\">\n",
              "    <path d=\"M0 0h24v24H0V0z\" fill=\"none\"/>\n",
              "    <path d=\"M18.56 5.44l.94 2.06.94-2.06 2.06-.94-2.06-.94-.94-2.06-.94 2.06-2.06.94zm-11 1L8.5 8.5l.94-2.06 2.06-.94-2.06-.94L8.5 2.5l-.94 2.06-2.06.94zm10 10l.94 2.06.94-2.06 2.06-.94-2.06-.94-.94-2.06-.94 2.06-2.06.94z\"/><path d=\"M17.41 7.96l-1.37-1.37c-.4-.4-.92-.59-1.43-.59-.52 0-1.04.2-1.43.59L10.3 9.45l-7.72 7.72c-.78.78-.78 2.05 0 2.83L4 21.41c.39.39.9.59 1.41.59.51 0 1.02-.2 1.41-.59l7.78-7.78 2.81-2.81c.8-.78.8-2.07 0-2.86zM5.41 20L4 18.59l7.72-7.72 1.47 1.35L5.41 20z\"/>\n",
              "  </svg>\n",
              "      </button>\n",
              "      \n",
              "  <style>\n",
              "    .colab-df-container {\n",
              "      display:flex;\n",
              "      flex-wrap:wrap;\n",
              "      gap: 12px;\n",
              "    }\n",
              "\n",
              "    .colab-df-convert {\n",
              "      background-color: #E8F0FE;\n",
              "      border: none;\n",
              "      border-radius: 50%;\n",
              "      cursor: pointer;\n",
              "      display: none;\n",
              "      fill: #1967D2;\n",
              "      height: 32px;\n",
              "      padding: 0 0 0 0;\n",
              "      width: 32px;\n",
              "    }\n",
              "\n",
              "    .colab-df-convert:hover {\n",
              "      background-color: #E2EBFA;\n",
              "      box-shadow: 0px 1px 2px rgba(60, 64, 67, 0.3), 0px 1px 3px 1px rgba(60, 64, 67, 0.15);\n",
              "      fill: #174EA6;\n",
              "    }\n",
              "\n",
              "    [theme=dark] .colab-df-convert {\n",
              "      background-color: #3B4455;\n",
              "      fill: #D2E3FC;\n",
              "    }\n",
              "\n",
              "    [theme=dark] .colab-df-convert:hover {\n",
              "      background-color: #434B5C;\n",
              "      box-shadow: 0px 1px 3px 1px rgba(0, 0, 0, 0.15);\n",
              "      filter: drop-shadow(0px 1px 2px rgba(0, 0, 0, 0.3));\n",
              "      fill: #FFFFFF;\n",
              "    }\n",
              "  </style>\n",
              "\n",
              "      <script>\n",
              "        const buttonEl =\n",
              "          document.querySelector('#df-957b1c9f-2c6c-4943-acdf-d11a1b23b8e0 button.colab-df-convert');\n",
              "        buttonEl.style.display =\n",
              "          google.colab.kernel.accessAllowed ? 'block' : 'none';\n",
              "\n",
              "        async function convertToInteractive(key) {\n",
              "          const element = document.querySelector('#df-957b1c9f-2c6c-4943-acdf-d11a1b23b8e0');\n",
              "          const dataTable =\n",
              "            await google.colab.kernel.invokeFunction('convertToInteractive',\n",
              "                                                     [key], {});\n",
              "          if (!dataTable) return;\n",
              "\n",
              "          const docLinkHtml = 'Like what you see? Visit the ' +\n",
              "            '<a target=\"_blank\" href=https://colab.research.google.com/notebooks/data_table.ipynb>data table notebook</a>'\n",
              "            + ' to learn more about interactive tables.';\n",
              "          element.innerHTML = '';\n",
              "          dataTable['output_type'] = 'display_data';\n",
              "          await google.colab.output.renderOutput(dataTable, element);\n",
              "          const docLink = document.createElement('div');\n",
              "          docLink.innerHTML = docLinkHtml;\n",
              "          element.appendChild(docLink);\n",
              "        }\n",
              "      </script>\n",
              "    </div>\n",
              "  </div>\n",
              "  "
            ]
          },
          "metadata": {},
          "execution_count": 89
        }
      ]
    },
    {
      "cell_type": "code",
      "source": [
        "from sklearn.cluster import KMeans\n",
        "X=data\n",
        "errors = []\n",
        "ks = []\n",
        "for k in range(1,4):\n",
        "  kmeans_ob=KMeans(n_clusters=k)\n",
        "  kmeans_ob.fit(X)\n",
        "  error = kmeans_ob.inertia_\n",
        "  ks.append(k)\n",
        "  errors.append(error)\n",
        "import matplotlib.pyplot as plt\n",
        "plt.plot(ks,errors)\n",
        "plt.show()"
      ],
      "metadata": {
        "colab": {
          "base_uri": "https://localhost:8080/",
          "height": 265
        },
        "id": "cULQZLUNxx0o",
        "outputId": "5fa78835-cf9c-4b2e-abe5-11aefa7b9ce9"
      },
      "execution_count": 58,
      "outputs": [
        {
          "output_type": "display_data",
          "data": {
            "text/plain": [
              "<Figure size 432x288 with 1 Axes>"
            ],
            "image/png": "[encoded data removed]"
          },
          "metadata": {
            "needs_background": "light"
          }
        }
      ]
    },
    {
      "cell_type": "markdown",
      "source": [
        "## Optimal K is 2"
      ],
      "metadata": {
        "id": "6Uy2ieroGUO3"
      }
    },
    {
      "cell_type": "code",
      "source": [
        "kmeans_ob1=KMeans(n_clusters=2)\n",
        "model=kmeans_ob1.fit(X)\n",
        "kmeans_ob1.labels_"
      ],
      "metadata": {
        "colab": {
          "base_uri": "https://localhost:8080/"
        },
        "id": "_0b9I2Zcx5ek",
        "outputId": "6770cb27-d148-4bf9-99af-481ce07c290d"
      },
      "execution_count": 59,
      "outputs": [
        {
          "output_type": "execute_result",
          "data": {
            "text/plain": [
              "array([0, 0, 1, 0], dtype=int32)"
            ]
          },
          "metadata": {},
          "execution_count": 59
        }
      ]
    },
    {
      "cell_type": "code",
      "source": [
        "dic = {\"Labels\":list(kmeans_ob1.labels_),\"data\":feature_name1}\n",
        "import pandas as pd\n",
        "df = pd.DataFrame(dic)\n",
        "df"
      ],
      "metadata": {
        "colab": {
          "base_uri": "https://localhost:8080/",
          "height": 175
        },
        "id": "DA2kRVLax1ql",
        "outputId": "0e22fd59-b526-4708-9461-8d7b02a157d3"
      },
      "execution_count": 60,
      "outputs": [
        {
          "output_type": "execute_result",
          "data": {
            "text/plain": [
              "   Labels                                data\n",
              "0       0  1_Miley_Cyrus_Party_In_The_USA.wav\n",
              "1       0  2_Miley_Cyrus_Party_In_The_USA.wav\n",
              "2       1  3_Miley_Cyrus_Party_In_The_USA.wav\n",
              "3       0  0_Miley_Cyrus_Party_In_The_USA.wav"
            ],
            "text/html": [
              "\n",
              "  <div id=\"df-cf0e4329-4bf5-4190-99e5-50326f811514\">\n",
              "    <div class=\"colab-df-container\">\n",
              "      <div>\n",
              "<style scoped>\n",
              "    .dataframe tbody tr th:only-of-type {\n",
              "        vertical-align: middle;\n",
              "    }\n",
              "\n",
              "    .dataframe tbody tr th {\n",
              "        vertical-align: top;\n",
              "    }\n",
              "\n",
              "    .dataframe thead th {\n",
              "        text-align: right;\n",
              "    }\n",
              "</style>\n",
              "<table border=\"1\" class=\"dataframe\">\n",
              "  <thead>\n",
              "    <tr style=\"text-align: right;\">\n",
              "      <th></th>\n",
              "      <th>Labels</th>\n",
              "      <th>data</th>\n",
              "    </tr>\n",
              "  </thead>\n",
              "  <tbody>\n",
              "    <tr>\n",
              "      <th>0</th>\n",
              "      <td>0</td>\n",
              "      <td>1_Miley_Cyrus_Party_In_The_USA.wav</td>\n",
              "    </tr>\n",
              "    <tr>\n",
              "      <th>1</th>\n",
              "      <td>0</td>\n",
              "      <td>2_Miley_Cyrus_Party_In_The_USA.wav</td>\n",
              "    </tr>\n",
              "    <tr>\n",
              "      <th>2</th>\n",
              "      <td>1</td>\n",
              "      <td>3_Miley_Cyrus_Party_In_The_USA.wav</td>\n",
              "    </tr>\n",
              "    <tr>\n",
              "      <th>3</th>\n",
              "      <td>0</td>\n",
              "      <td>0_Miley_Cyrus_Party_In_The_USA.wav</td>\n",
              "    </tr>\n",
              "  </tbody>\n",
              "</table>\n",
              "</div>\n",
              "      <button class=\"colab-df-convert\" onclick=\"convertToInteractive('df-cf0e4329-4bf5-4190-99e5-50326f811514')\"\n",
              "              title=\"Convert this dataframe to an interactive table.\"\n",
              "              style=\"display:none;\">\n",
              "        \n",
              "  <svg xmlns=\"http://www.w3.org/2000/svg\" height=\"24px\"viewBox=\"0 0 24 24\"\n",
              "       width=\"24px\">\n",
              "    <path d=\"M0 0h24v24H0V0z\" fill=\"none\"/>\n",
              "    <path d=\"M18.56 5.44l.94 2.06.94-2.06 2.06-.94-2.06-.94-.94-2.06-.94 2.06-2.06.94zm-11 1L8.5 8.5l.94-2.06 2.06-.94-2.06-.94L8.5 2.5l-.94 2.06-2.06.94zm10 10l.94 2.06.94-2.06 2.06-.94-2.06-.94-.94-2.06-.94 2.06-2.06.94z\"/><path d=\"M17.41 7.96l-1.37-1.37c-.4-.4-.92-.59-1.43-.59-.52 0-1.04.2-1.43.59L10.3 9.45l-7.72 7.72c-.78.78-.78 2.05 0 2.83L4 21.41c.39.39.9.59 1.41.59.51 0 1.02-.2 1.41-.59l7.78-7.78 2.81-2.81c.8-.78.8-2.07 0-2.86zM5.41 20L4 18.59l7.72-7.72 1.47 1.35L5.41 20z\"/>\n",
              "  </svg>\n",
              "      </button>\n",
              "      \n",
              "  <style>\n",
              "    .colab-df-container {\n",
              "      display:flex;\n",
              "      flex-wrap:wrap;\n",
              "      gap: 12px;\n",
              "    }\n",
              "\n",
              "    .colab-df-convert {\n",
              "      background-color: #E8F0FE;\n",
              "      border: none;\n",
              "      border-radius: 50%;\n",
              "      cursor: pointer;\n",
              "      display: none;\n",
              "      fill: #1967D2;\n",
              "      height: 32px;\n",
              "      padding: 0 0 0 0;\n",
              "      width: 32px;\n",
              "    }\n",
              "\n",
              "    .colab-df-convert:hover {\n",
              "      background-color: #E2EBFA;\n",
              "      box-shadow: 0px 1px 2px rgba(60, 64, 67, 0.3), 0px 1px 3px 1px rgba(60, 64, 67, 0.15);\n",
              "      fill: #174EA6;\n",
              "    }\n",
              "\n",
              "    [theme=dark] .colab-df-convert {\n",
              "      background-color: #3B4455;\n",
              "      fill: #D2E3FC;\n",
              "    }\n",
              "\n",
              "    [theme=dark] .colab-df-convert:hover {\n",
              "      background-color: #434B5C;\n",
              "      box-shadow: 0px 1px 3px 1px rgba(0, 0, 0, 0.15);\n",
              "      filter: drop-shadow(0px 1px 2px rgba(0, 0, 0, 0.3));\n",
              "      fill: #FFFFFF;\n",
              "    }\n",
              "  </style>\n",
              "\n",
              "      <script>\n",
              "        const buttonEl =\n",
              "          document.querySelector('#df-cf0e4329-4bf5-4190-99e5-50326f811514 button.colab-df-convert');\n",
              "        buttonEl.style.display =\n",
              "          google.colab.kernel.accessAllowed ? 'block' : 'none';\n",
              "\n",
              "        async function convertToInteractive(key) {\n",
              "          const element = document.querySelector('#df-cf0e4329-4bf5-4190-99e5-50326f811514');\n",
              "          const dataTable =\n",
              "            await google.colab.kernel.invokeFunction('convertToInteractive',\n",
              "                                                     [key], {});\n",
              "          if (!dataTable) return;\n",
              "\n",
              "          const docLinkHtml = 'Like what you see? Visit the ' +\n",
              "            '<a target=\"_blank\" href=https://colab.research.google.com/notebooks/data_table.ipynb>data table notebook</a>'\n",
              "            + ' to learn more about interactive tables.';\n",
              "          element.innerHTML = '';\n",
              "          dataTable['output_type'] = 'display_data';\n",
              "          await google.colab.output.renderOutput(dataTable, element);\n",
              "          const docLink = document.createElement('div');\n",
              "          docLink.innerHTML = docLinkHtml;\n",
              "          element.appendChild(docLink);\n",
              "        }\n",
              "      </script>\n",
              "    </div>\n",
              "  </div>\n",
              "  "
            ]
          },
          "metadata": {},
          "execution_count": 60
        }
      ]
    },
    {
      "cell_type": "markdown",
      "source": [
        "References: \n",
        "1. https://stackoverflow.com/questions/37999150/how-to-split-a-wav-file-into-multiple-wav-files"
      ],
      "metadata": {
        "id": "A6mIMXZWCJQq"
      }
    }
  ]
}